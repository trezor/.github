{
  "nbformat": 4,
  "nbformat_minor": 0,
  "metadata": {
    "colab": {
      "name": "Untitled0.ipynb",
      "provenance": [],
      "authorship_tag": "ABX9TyPS8WMHRtIR/+f2bF0hMJu5",
      "include_colab_link": true
    },
    "kernelspec": {
      "name": "python3",
      "display_name": "Python 3"
    },
    "language_info": {
      "name": "python"
    }
  },
  "cells": [
    {
      "cell_type": "markdown",
      "metadata": {
        "id": "view-in-github",
        "colab_type": "text"
      },
      "source": [
        "<a href=\"https://colab.research.google.com/github/Leeeooo19888/.github/blob/master/saPA.ipynb\" target=\"_parent\"><img src=\"https://colab.research.google.com/assets/colab-badge.svg\" alt=\"Open In Colab\"/></a>"
      ]
    },
    {
      "cell_type": "code",
      "metadata": {
        "id": "i1ZFsdyeZXO7"
      },
      "source": [
        " usage: conda list [-h] [-n ENVIRONMENT | -p PATH] [--json] [-v] [-q]\n",
        "                  [--show-channel-urls] [-c] [-f] [--explicit] [--md5] [-e]\n",
        "                  [-r] [--no-pip]\n",
        "                  [regex]"
      ],
      "execution_count": null,
      "outputs": []
    }
  ]
}